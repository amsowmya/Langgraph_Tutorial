{
 "cells": [
  {
   "cell_type": "code",
   "execution_count": 1,
   "metadata": {},
   "outputs": [
    {
     "data": {
      "text/plain": [
       "True"
      ]
     },
     "execution_count": 1,
     "metadata": {},
     "output_type": "execute_result"
    }
   ],
   "source": [
    "from dotenv import load_dotenv\n",
    "import os\n",
    "\n",
    "load_dotenv()"
   ]
  },
  {
   "cell_type": "code",
   "execution_count": 2,
   "metadata": {},
   "outputs": [
    {
     "data": {
      "text/plain": [
       "AIMessage(content='Hello! How can I assist you today?', additional_kwargs={'refusal': None}, response_metadata={'token_usage': {'completion_tokens': 9, 'prompt_tokens': 8, 'total_tokens': 17, 'completion_tokens_details': None, 'prompt_tokens_details': None}, 'model_name': 'gpt-4o-2024-05-13', 'system_fingerprint': 'fp_65792305e4', 'prompt_filter_results': [{'prompt_index': 0, 'content_filter_results': {'hate': {'filtered': False, 'severity': 'safe'}, 'jailbreak': {'filtered': False, 'detected': False}, 'self_harm': {'filtered': False, 'severity': 'safe'}, 'sexual': {'filtered': False, 'severity': 'safe'}, 'violence': {'filtered': False, 'severity': 'safe'}}}], 'finish_reason': 'stop', 'logprobs': None, 'content_filter_results': {'hate': {'filtered': False, 'severity': 'safe'}, 'protected_material_code': {'filtered': False, 'detected': False}, 'protected_material_text': {'filtered': False, 'detected': False}, 'self_harm': {'filtered': False, 'severity': 'safe'}, 'sexual': {'filtered': False, 'severity': 'safe'}, 'violence': {'filtered': False, 'severity': 'safe'}}}, id='run-d4be53b1-c2c2-4beb-a94e-b792030364fd-0', usage_metadata={'input_tokens': 8, 'output_tokens': 9, 'total_tokens': 17, 'input_token_details': {}, 'output_token_details': {}})"
      ]
     },
     "execution_count": 2,
     "metadata": {},
     "output_type": "execute_result"
    }
   ],
   "source": [
    "from langchain_groq import ChatGroq\n",
    "from langchain_openai import AzureChatOpenAI\n",
    "\n",
    "groq_api_key = os.getenv('GROQ_API_KEY')\n",
    "os.environ['AZURE_OPENAI_API_KEY'] = os.getenv('AZURE_OPENAI_API_KEY')\n",
    "\n",
    "# llm = ChatGroq(groq_api_key=groq_api_key, model_name=\"gemma2-9b-it\")\n",
    "\n",
    "llm = AzureChatOpenAI(\n",
    "    api_version=os.getenv('AZURE_OPENAI_API_VERSION'),\n",
    "    azure_deployment=os.getenv('AZURE_OPENAI_DEPLOYMENT'),\n",
    "    azure_endpoint=os.getenv('AZURE_OPENAI_ENDPOINT'),\n",
    ")\n",
    "\n",
    "\n",
    "llm.invoke(\"hi\")"
   ]
  },
  {
   "cell_type": "code",
   "execution_count": 3,
   "metadata": {},
   "outputs": [],
   "source": [
    "from langchain_community.tools import DuckDuckGoSearchRun\n",
    "\n",
    "def web_search(query: str):\n",
    "    \"\"\"Searches DuckDuckGo using Langchain's DuckDuckgoSearchRun tool\"\"\"\n",
    "    search = DuckDuckGoSearchRun()\n",
    "    return search.invoke(query)\n",
    "\n",
    "# result = search_duckduckgo(\"what are AI agents\")\n",
    "# print(result)\n",
    "\n",
    "def add(a: float, b: float) -> float:\n",
    "    \"\"\"Add two numbers\"\"\"\n",
    "    return a + b\n",
    "\n",
    "def multiply(a: float, b: float) -> float:\n",
    "    \"\"\"Multiply two numbers.\"\"\"\n",
    "    return a * b"
   ]
  },
  {
   "cell_type": "code",
   "execution_count": 4,
   "metadata": {},
   "outputs": [],
   "source": [
    "from langgraph_supervisor import create_supervisor\n",
    "from langgraph.prebuilt import create_react_agent\n",
    "\n",
    "math_agent = create_react_agent(model=llm, \n",
    "                                tools=[add, multiply],\n",
    "                                name=\"math_expert\",\n",
    "                                prompt=\"You are a math expert. Always use one tool at a time.\"\n",
    "                                )\n",
    "\n",
    "research_agent = create_react_agent(\n",
    "    model=llm,\n",
    "    tools=[web_search],\n",
    "    name=\"reserch_expert\",\n",
    "    prompt=\"You are a world class researcher with access to web search. Do not do any math.\"\n",
    ")"
   ]
  },
  {
   "cell_type": "code",
   "execution_count": 5,
   "metadata": {},
   "outputs": [],
   "source": [
    "workflow = create_supervisor(\n",
    "    [research_agent, math_agent],\n",
    "    model=llm,\n",
    "    prompt=(\n",
    "        \"You are a team supervisor managing a research expert and a math expert. \"\n",
    "        \"For current events, use research_agent. \"\n",
    "        \"For math problems, use math_agent.\"\n",
    "    )\n",
    ")"
   ]
  },
  {
   "cell_type": "code",
   "execution_count": 6,
   "metadata": {},
   "outputs": [
    {
     "data": {
      "text/plain": [
       "{'messages': [HumanMessage(content='what is quantum computing?', additional_kwargs={}, response_metadata={}, id='367a9617-9631-484c-b39d-612552c24489'),\n",
       "  AIMessage(content='', additional_kwargs={'tool_calls': [{'id': 'call_fZcGxJjtijKdQiDfjF7SSTZS', 'function': {'arguments': '{}', 'name': 'transfer_to_reserch_expert'}, 'type': 'function'}], 'refusal': None}, response_metadata={'token_usage': {'completion_tokens': 15, 'prompt_tokens': 94, 'total_tokens': 109, 'completion_tokens_details': None, 'prompt_tokens_details': None}, 'model_name': 'gpt-4o-2024-05-13', 'system_fingerprint': 'fp_65792305e4', 'prompt_filter_results': [{'prompt_index': 0, 'content_filter_results': {'hate': {'filtered': False, 'severity': 'safe'}, 'jailbreak': {'filtered': False, 'detected': False}, 'self_harm': {'filtered': False, 'severity': 'safe'}, 'sexual': {'filtered': False, 'severity': 'safe'}, 'violence': {'filtered': False, 'severity': 'safe'}}}], 'finish_reason': 'tool_calls', 'logprobs': None, 'content_filter_results': {}}, name='supervisor', id='run-780af99a-e4bc-45d7-8785-9827ceedd04c-0', tool_calls=[{'name': 'transfer_to_reserch_expert', 'args': {}, 'id': 'call_fZcGxJjtijKdQiDfjF7SSTZS', 'type': 'tool_call'}], usage_metadata={'input_tokens': 94, 'output_tokens': 15, 'total_tokens': 109, 'input_token_details': {}, 'output_token_details': {}}),\n",
       "  ToolMessage(content='Successfully transferred to reserch_expert', name='transfer_to_reserch_expert', id='9b4f69d1-4c5b-4308-9dc6-024290152fda', tool_call_id='call_fZcGxJjtijKdQiDfjF7SSTZS'),\n",
       "  AIMessage(content='Quantum computing is an area of computing focused on developing computer technology based on the principles of quantum theory. Quantum theory explains the behavior of energy and material on the atomic and subatomic levels. Traditional computers use bits as the smallest unit of data, represented as 0s or 1s. Quantum computers, on the other hand, use quantum bits or qubits.\\n\\nQubits take advantage of quantum phenomena like superposition and entanglement.\\n\\n### Key Concepts:\\n\\n1. **Superposition**: Unlike classical bits, which must be in a state of 0 or 1, qubits can be in a state of both 0 and 1 simultaneously. This superposition allows quantum computers to process a vast number of possibilities at once.\\n\\n2. **Entanglement**: Qubits can become entangled, meaning the state of one qubit is dependent on the state of another, no matter the distance between them. This property allows qubits that are entangled to operate in a coordinated way, exponentially increasing the processing power of the computer.\\n\\n3. **Quantum Gates**: Quantum gates manipulate the state of qubits. They are the quantum equivalent of classical logic gates but can process more complex operations due to the principles of superposition and entanglement.\\n\\n### Advantages:\\n- **Speed**: For certain tasks, quantum computers can solve problems much faster than classical computers.\\n- **Complex Problem Solving**: They are particularly suited for problems involving a large number of variables and complex mathematics, such as cryptography, optimization problems, and simulations of quantum physics.\\n\\n### Challenges:\\n- **Decoherence**: The quantum state of qubits is easily disrupted by environmental factors which can lead to errors.\\n- **Error Correction**: Developing efficient quantum error-correcting codes is one of the major challenges in making practical quantum computers.\\n- **Scalability**: Building large-scale quantum computers with many qubits is a significant engineering challenge.\\n\\n### Potential Applications:\\n- **Cryptography**: Quantum computers have the potential to break many of the cryptographic codes currently used for secure communication.\\n- **Drug Discovery**: Simulation of molecular and atomic interactions to speed up drug discovery and materials science.\\n- **Optimization**: Solving complex optimization problems far more efficiently than classical computers, which has implications for everything from logistics to financial modeling.\\n\\nQuantum computing is an ongoing field of research, and while fully functional quantum computers are still in development, the theoretical underpinnings and initial prototypes promise significant advancements in computing technology.', additional_kwargs={'refusal': None}, response_metadata={'token_usage': {'completion_tokens': 506, 'prompt_tokens': 114, 'total_tokens': 620, 'completion_tokens_details': None, 'prompt_tokens_details': None}, 'model_name': 'gpt-4o-2024-05-13', 'system_fingerprint': 'fp_65792305e4', 'prompt_filter_results': [{'prompt_index': 0, 'content_filter_results': {'hate': {'filtered': False, 'severity': 'safe'}, 'jailbreak': {'filtered': False, 'detected': False}, 'self_harm': {'filtered': False, 'severity': 'safe'}, 'sexual': {'filtered': False, 'severity': 'safe'}, 'violence': {'filtered': False, 'severity': 'safe'}}}], 'finish_reason': 'stop', 'logprobs': None, 'content_filter_results': {'hate': {'filtered': False, 'severity': 'safe'}, 'protected_material_code': {'filtered': False, 'detected': False}, 'protected_material_text': {'filtered': False, 'detected': False}, 'self_harm': {'filtered': False, 'severity': 'safe'}, 'sexual': {'filtered': False, 'severity': 'safe'}, 'violence': {'filtered': False, 'severity': 'safe'}}}, name='reserch_expert', id='run-174bfa83-7529-429b-b924-2c3eb8588c15-0', usage_metadata={'input_tokens': 114, 'output_tokens': 506, 'total_tokens': 620, 'input_token_details': {}, 'output_token_details': {}}),\n",
       "  AIMessage(content='Transferring back to supervisor', additional_kwargs={}, response_metadata={}, name='reserch_expert', id='7fe309f9-ddfb-4eea-a978-df12933cc4da', tool_calls=[{'name': 'transfer_back_to_supervisor', 'args': {}, 'id': '3dd28308-06b7-43da-96ff-a311e948432a', 'type': 'tool_call'}]),\n",
       "  ToolMessage(content='Successfully transferred back to supervisor', name='transfer_back_to_supervisor', id='d0a828b8-7055-4825-8b0b-e2af20dc1f0f', tool_call_id='3dd28308-06b7-43da-96ff-a311e948432a'),\n",
       "  AIMessage(content=\"Quantum computing leverages principles from quantum theory to develop computer technology that operates at the atomic and subatomic levels. Unlike classical computers, which use bits that represent 0s or 1s, quantum computers use quantum bits (qubits) that can be in both states simultaneously due to superposition. They also use entanglement, a phenomenon where qubits' states are interdependent regardless of distance.\\n\\nKey advantages include the potential for faster problem-solving and handling complex mathematical problems. However, challenges such as decoherence and error correction need to be addressed for practical quantum computing. Applications span from cryptography to drug discovery and optimization problems.\", additional_kwargs={'refusal': None}, response_metadata={'token_usage': {'completion_tokens': 128, 'prompt_tokens': 699, 'total_tokens': 827, 'completion_tokens_details': None, 'prompt_tokens_details': None}, 'model_name': 'gpt-4o-2024-05-13', 'system_fingerprint': 'fp_65792305e4', 'prompt_filter_results': [{'prompt_index': 0, 'content_filter_results': {'hate': {'filtered': False, 'severity': 'safe'}, 'jailbreak': {'filtered': False, 'detected': False}, 'self_harm': {'filtered': False, 'severity': 'safe'}, 'sexual': {'filtered': False, 'severity': 'safe'}, 'violence': {'filtered': False, 'severity': 'safe'}}}], 'finish_reason': 'stop', 'logprobs': None, 'content_filter_results': {'hate': {'filtered': False, 'severity': 'safe'}, 'protected_material_code': {'filtered': False, 'detected': False}, 'protected_material_text': {'filtered': False, 'detected': False}, 'self_harm': {'filtered': False, 'severity': 'safe'}, 'sexual': {'filtered': False, 'severity': 'safe'}, 'violence': {'filtered': False, 'severity': 'safe'}}}, name='supervisor', id='run-b9a40ef4-0bc7-41e7-9449-c4453d331f4c-0', usage_metadata={'input_tokens': 699, 'output_tokens': 128, 'total_tokens': 827, 'input_token_details': {}, 'output_token_details': {}})]}"
      ]
     },
     "execution_count": 6,
     "metadata": {},
     "output_type": "execute_result"
    }
   ],
   "source": [
    "app = workflow.compile()\n",
    "\n",
    "result = app.invoke({\"messages\": [(\"user\", \"what is quantum computing?\")]})\n",
    "result"
   ]
  },
  {
   "cell_type": "code",
   "execution_count": 7,
   "metadata": {},
   "outputs": [
    {
     "name": "stdout",
     "output_type": "stream",
     "text": [
      "================================\u001b[1m Human Message \u001b[0m=================================\n",
      "\n",
      "what is quantum computing?\n",
      "==================================\u001b[1m Ai Message \u001b[0m==================================\n",
      "Name: supervisor\n",
      "Tool Calls:\n",
      "  transfer_to_reserch_expert (call_fZcGxJjtijKdQiDfjF7SSTZS)\n",
      " Call ID: call_fZcGxJjtijKdQiDfjF7SSTZS\n",
      "  Args:\n",
      "=================================\u001b[1m Tool Message \u001b[0m=================================\n",
      "Name: transfer_to_reserch_expert\n",
      "\n",
      "Successfully transferred to reserch_expert\n",
      "==================================\u001b[1m Ai Message \u001b[0m==================================\n",
      "Name: reserch_expert\n",
      "\n",
      "Quantum computing is an area of computing focused on developing computer technology based on the principles of quantum theory. Quantum theory explains the behavior of energy and material on the atomic and subatomic levels. Traditional computers use bits as the smallest unit of data, represented as 0s or 1s. Quantum computers, on the other hand, use quantum bits or qubits.\n",
      "\n",
      "Qubits take advantage of quantum phenomena like superposition and entanglement.\n",
      "\n",
      "### Key Concepts:\n",
      "\n",
      "1. **Superposition**: Unlike classical bits, which must be in a state of 0 or 1, qubits can be in a state of both 0 and 1 simultaneously. This superposition allows quantum computers to process a vast number of possibilities at once.\n",
      "\n",
      "2. **Entanglement**: Qubits can become entangled, meaning the state of one qubit is dependent on the state of another, no matter the distance between them. This property allows qubits that are entangled to operate in a coordinated way, exponentially increasing the processing power of the computer.\n",
      "\n",
      "3. **Quantum Gates**: Quantum gates manipulate the state of qubits. They are the quantum equivalent of classical logic gates but can process more complex operations due to the principles of superposition and entanglement.\n",
      "\n",
      "### Advantages:\n",
      "- **Speed**: For certain tasks, quantum computers can solve problems much faster than classical computers.\n",
      "- **Complex Problem Solving**: They are particularly suited for problems involving a large number of variables and complex mathematics, such as cryptography, optimization problems, and simulations of quantum physics.\n",
      "\n",
      "### Challenges:\n",
      "- **Decoherence**: The quantum state of qubits is easily disrupted by environmental factors which can lead to errors.\n",
      "- **Error Correction**: Developing efficient quantum error-correcting codes is one of the major challenges in making practical quantum computers.\n",
      "- **Scalability**: Building large-scale quantum computers with many qubits is a significant engineering challenge.\n",
      "\n",
      "### Potential Applications:\n",
      "- **Cryptography**: Quantum computers have the potential to break many of the cryptographic codes currently used for secure communication.\n",
      "- **Drug Discovery**: Simulation of molecular and atomic interactions to speed up drug discovery and materials science.\n",
      "- **Optimization**: Solving complex optimization problems far more efficiently than classical computers, which has implications for everything from logistics to financial modeling.\n",
      "\n",
      "Quantum computing is an ongoing field of research, and while fully functional quantum computers are still in development, the theoretical underpinnings and initial prototypes promise significant advancements in computing technology.\n",
      "==================================\u001b[1m Ai Message \u001b[0m==================================\n",
      "Name: reserch_expert\n",
      "\n",
      "Transferring back to supervisor\n",
      "Tool Calls:\n",
      "  transfer_back_to_supervisor (3dd28308-06b7-43da-96ff-a311e948432a)\n",
      " Call ID: 3dd28308-06b7-43da-96ff-a311e948432a\n",
      "  Args:\n",
      "=================================\u001b[1m Tool Message \u001b[0m=================================\n",
      "Name: transfer_back_to_supervisor\n",
      "\n",
      "Successfully transferred back to supervisor\n",
      "==================================\u001b[1m Ai Message \u001b[0m==================================\n",
      "Name: supervisor\n",
      "\n",
      "Quantum computing leverages principles from quantum theory to develop computer technology that operates at the atomic and subatomic levels. Unlike classical computers, which use bits that represent 0s or 1s, quantum computers use quantum bits (qubits) that can be in both states simultaneously due to superposition. They also use entanglement, a phenomenon where qubits' states are interdependent regardless of distance.\n",
      "\n",
      "Key advantages include the potential for faster problem-solving and handling complex mathematical problems. However, challenges such as decoherence and error correction need to be addressed for practical quantum computing. Applications span from cryptography to drug discovery and optimization problems.\n"
     ]
    }
   ],
   "source": [
    "for m in result['messages']:\n",
    "    m.pretty_print()"
   ]
  },
  {
   "cell_type": "code",
   "execution_count": 8,
   "metadata": {},
   "outputs": [
    {
     "name": "stdout",
     "output_type": "stream",
     "text": [
      "================================\u001b[1m Human Message \u001b[0m=================================\n",
      "\n",
      "what is the weather in delhi today. Multiply it by 2 and add 5\n",
      "==================================\u001b[1m Ai Message \u001b[0m==================================\n",
      "Name: supervisor\n",
      "Tool Calls:\n",
      "  transfer_to_reserch_expert (call_mutGyYRKc3fdAUTJP213imXC)\n",
      " Call ID: call_mutGyYRKc3fdAUTJP213imXC\n",
      "  Args:\n",
      "=================================\u001b[1m Tool Message \u001b[0m=================================\n",
      "Name: transfer_to_reserch_expert\n",
      "\n",
      "Successfully transferred to reserch_expert\n",
      "==================================\u001b[1m Ai Message \u001b[0m==================================\n",
      "Name: reserch_expert\n",
      "\n",
      "The weather in Delhi today is 16°C. \n",
      "\n",
      "You requested to \"multiply it by 2 and add 5.\" As a researcher, I do not perform mathematical calculations. Please proceed with the calculation as needed.\n",
      "==================================\u001b[1m Ai Message \u001b[0m==================================\n",
      "Name: reserch_expert\n",
      "\n",
      "Transferring back to supervisor\n",
      "Tool Calls:\n",
      "  transfer_back_to_supervisor (1e081178-09bc-40d6-98bb-d74baf21881b)\n",
      " Call ID: 1e081178-09bc-40d6-98bb-d74baf21881b\n",
      "  Args:\n",
      "=================================\u001b[1m Tool Message \u001b[0m=================================\n",
      "Name: transfer_back_to_supervisor\n",
      "\n",
      "Successfully transferred back to supervisor\n",
      "==================================\u001b[1m Ai Message \u001b[0m==================================\n",
      "Name: supervisor\n",
      "Tool Calls:\n",
      "  transfer_to_math_expert (call_0v5VqGkv2HGB39KMOwmLTUwF)\n",
      " Call ID: call_0v5VqGkv2HGB39KMOwmLTUwF\n",
      "  Args:\n",
      "=================================\u001b[1m Tool Message \u001b[0m=================================\n",
      "Name: transfer_to_math_expert\n",
      "\n",
      "Successfully transferred to math_expert\n",
      "==================================\u001b[1m Ai Message \u001b[0m==================================\n",
      "Name: math_expert\n",
      "\n",
      "The result of multiplying the temperature (16°C) by 2 is 32. Adding 5 to that result gives us 37. \n",
      "\n",
      "So, the final result is 37.\n",
      "==================================\u001b[1m Ai Message \u001b[0m==================================\n",
      "Name: math_expert\n",
      "\n",
      "Transferring back to supervisor\n",
      "Tool Calls:\n",
      "  transfer_back_to_supervisor (79ad85c1-9591-4af1-8696-b8e79ea3ed10)\n",
      " Call ID: 79ad85c1-9591-4af1-8696-b8e79ea3ed10\n",
      "  Args:\n",
      "=================================\u001b[1m Tool Message \u001b[0m=================================\n",
      "Name: transfer_back_to_supervisor\n",
      "\n",
      "Successfully transferred back to supervisor\n",
      "==================================\u001b[1m Ai Message \u001b[0m==================================\n",
      "Name: supervisor\n",
      "\n",
      "The weather in Delhi today is 16°C. After multiplying by 2 and adding 5, the final result is 37.\n"
     ]
    }
   ],
   "source": [
    "app = workflow.compile()\n",
    "\n",
    "result = app.invoke({\"messages\": [(\"user\", \"what is the weather in delhi today. Multiply it by 2 and add 5\")]})\n",
    "\n",
    "for m in result['messages']:\n",
    "    m.pretty_print()"
   ]
  },
  {
   "cell_type": "markdown",
   "metadata": {},
   "source": [
    "### Supervisor Agent with low level agent"
   ]
  },
  {
   "cell_type": "code",
   "execution_count": 21,
   "metadata": {},
   "outputs": [],
   "source": [
    "from typing import Literal\n",
    "\n",
    "from langchain_core.tools import tool\n",
    "from langchain_core.messages import HumanMessage\n",
    "from langgraph.graph import StateGraph, START, END, MessagesState\n",
    "from langgraph.graph.state import CompiledStateGraph\n",
    "from langgraph.prebuilt import ToolNode\n",
    "\n",
    "@tool \n",
    "def get_weather(location: str):\n",
    "    \"\"\"Call to get the current weather\"\"\"\n",
    "    if location.lower() in [\"munich\"]:\n",
    "        return \"It's 15 degrees Celsius and cloudy\"\n",
    "    else:\n",
    "        return \"It's 32 degrees Celsius and sunny.\"\n",
    "    \n",
    "tools = [get_weather]\n",
    "\n",
    "llm_with_tool = llm.bind_tools(tools)\n",
    "\n",
    "# ---Existing agent workflow definition ---\n",
    "def call_model(state: MessagesState):\n",
    "    \"\"\"Call the LLM with the conversation so far.\"\"\"\n",
    "    messages = state['messages']\n",
    "    response = llm_with_tool.invoke(messages)\n",
    "    return {\"messages\": [response]}\n",
    "\n",
    "def should_continue(state: MessagesState) -> Literal[\"tools\", END]:\n",
    "    \"\"\"If there is a tool call requested, to to 'tools', else end.\"\"\"\n",
    "    messages = state['messages']\n",
    "    last_message = messages[-1]\n",
    "    if last_message.tool_calls:\n",
    "        return \"tools\" \n",
    "    return END \n",
    "\n",
    "weather_workflow = StateGraph(MessagesState)\n",
    "\n",
    "tool_node = ToolNode(tools)\n",
    "\n",
    "weather_workflow.add_node(\"agent\", call_model)\n",
    "weather_workflow.add_node(\"tools\", tool_node)\n",
    "\n",
    "weather_workflow.add_edge(START, \"agent\")\n",
    "weather_workflow.add_conditional_edges(\"agent\", should_continue)\n",
    "weather_workflow.add_edge(\"tools\", \"agent\")\n",
    "\n",
    "weather_agent_graph = weather_workflow.compile(name=\"weather_agent\")"
   ]
  },
  {
   "cell_type": "code",
   "execution_count": 22,
   "metadata": {},
   "outputs": [
    {
     "data": {
      "image/png": "[encoded data removed]",
      "text/plain": [
       "<IPython.core.display.Image object>"
      ]
     },
     "metadata": {},
     "output_type": "display_data"
    }
   ],
   "source": [
    "from IPython.display import display, Image\n",
    "\n",
    "display(Image(weather_agent_graph.get_graph().draw_mermaid_png()))"
   ]
  },
  {
   "cell_type": "code",
   "execution_count": 23,
   "metadata": {},
   "outputs": [],
   "source": [
    "from langgraph_supervisor import create_supervisor\n",
    "\n",
    "supervisor_workflow = create_supervisor(\n",
    "    agents = [weather_agent_graph],\n",
    "    model=llm_with_tool,\n",
    "    prompt = (\n",
    "        \"You are a supervisor managing a weather agent. \"\n",
    "        \"For any weather-related question, call the 'weather_agent' to handle it.\"\n",
    "    ),\n",
    "    output_mode=\"last_message\",\n",
    "    # output_mode=\"full_history\",\n",
    "    supervisor_name=\"supervisor_agent\",\n",
    ")\n",
    "\n",
    "supervisor_app = supervisor_workflow.compile()"
   ]
  },
  {
   "cell_type": "code",
   "execution_count": 24,
   "metadata": {},
   "outputs": [
    {
     "data": {
      "image/png": "[encoded data removed]",
      "text/plain": [
       "<IPython.core.display.Image object>"
      ]
     },
     "metadata": {},
     "output_type": "display_data"
    }
   ],
   "source": [
    "from IPython.display import display, Image\n",
    "\n",
    "display(Image(supervisor_app.get_graph().draw_mermaid_png()))"
   ]
  },
  {
   "cell_type": "code",
   "execution_count": 25,
   "metadata": {},
   "outputs": [
    {
     "data": {
      "text/plain": [
       "{'messages': [HumanMessage(content='hello, how are you?', additional_kwargs={}, response_metadata={}, id='614f9e23-228b-4a01-957e-35b151d16b7c'),\n",
       "  AIMessage(content=\"Hello! I'm doing well, thank you. How can I assist you today?\", additional_kwargs={'refusal': None}, response_metadata={'token_usage': {'completion_tokens': 17, 'prompt_tokens': 70, 'total_tokens': 87, 'completion_tokens_details': None, 'prompt_tokens_details': None}, 'model_name': 'gpt-4o-2024-05-13', 'system_fingerprint': 'fp_65792305e4', 'prompt_filter_results': [{'prompt_index': 0, 'content_filter_results': {'hate': {'filtered': False, 'severity': 'safe'}, 'jailbreak': {'filtered': False, 'detected': False}, 'self_harm': {'filtered': False, 'severity': 'safe'}, 'sexual': {'filtered': False, 'severity': 'safe'}, 'violence': {'filtered': False, 'severity': 'safe'}}}], 'finish_reason': 'stop', 'logprobs': None, 'content_filter_results': {'hate': {'filtered': False, 'severity': 'safe'}, 'protected_material_code': {'filtered': False, 'detected': False}, 'protected_material_text': {'filtered': False, 'detected': False}, 'self_harm': {'filtered': False, 'severity': 'safe'}, 'sexual': {'filtered': False, 'severity': 'safe'}, 'violence': {'filtered': False, 'severity': 'safe'}}}, name='supervisor_agent', id='run-8fb221ce-3a97-41a4-8f92-6873a33616c9-0', usage_metadata={'input_tokens': 70, 'output_tokens': 17, 'total_tokens': 87, 'input_token_details': {}, 'output_token_details': {}})]}"
      ]
     },
     "execution_count": 25,
     "metadata": {},
     "output_type": "execute_result"
    }
   ],
   "source": [
    "supervisor_app.invoke({\"messages\": [HumanMessage(content=\"hello, how are you?\")]})"
   ]
  },
  {
   "cell_type": "code",
   "execution_count": 27,
   "metadata": {},
   "outputs": [
    {
     "data": {
      "text/plain": [
       "{'messages': [HumanMessage(content='how is weather in munich', additional_kwargs={}, response_metadata={}, id='e74b2968-cf67-4ead-a7a4-8e4eeae8a1f8'),\n",
       "  AIMessage(content='', additional_kwargs={'tool_calls': [{'id': 'call_JoYlaq3h9xM9FQDknIeUu8p3', 'function': {'arguments': '{}', 'name': 'transfer_to_weather_agent'}, 'type': 'function'}], 'refusal': None}, response_metadata={'token_usage': {'completion_tokens': 12, 'prompt_tokens': 70, 'total_tokens': 82, 'completion_tokens_details': {'accepted_prediction_tokens': 0, 'audio_tokens': 0, 'reasoning_tokens': 0, 'rejected_prediction_tokens': 0}, 'prompt_tokens_details': {'audio_tokens': 0, 'cached_tokens': 0}}, 'model_name': 'gpt-4o-2024-05-13', 'system_fingerprint': 'fp_b705f0c291', 'prompt_filter_results': [{'prompt_index': 0, 'content_filter_results': {'hate': {'filtered': False, 'severity': 'safe'}, 'jailbreak': {'filtered': False, 'detected': False}, 'self_harm': {'filtered': False, 'severity': 'safe'}, 'sexual': {'filtered': False, 'severity': 'safe'}, 'violence': {'filtered': False, 'severity': 'safe'}}}], 'finish_reason': 'tool_calls', 'logprobs': None, 'content_filter_results': {}}, name='supervisor_agent', id='run-03b2e816-218a-4b76-8a2b-b732e0925a90-0', tool_calls=[{'name': 'transfer_to_weather_agent', 'args': {}, 'id': 'call_JoYlaq3h9xM9FQDknIeUu8p3', 'type': 'tool_call'}], usage_metadata={'input_tokens': 70, 'output_tokens': 12, 'total_tokens': 82, 'input_token_details': {'audio': 0, 'cache_read': 0}, 'output_token_details': {'audio': 0, 'reasoning': 0}}),\n",
       "  ToolMessage(content='Successfully transferred to weather_agent', name='transfer_to_weather_agent', id='fd4e1e61-a434-4360-881a-48395ef214ef', tool_call_id='call_JoYlaq3h9xM9FQDknIeUu8p3'),\n",
       "  AIMessage(content='The weather in Munich is currently 15 degrees Celsius and cloudy.', additional_kwargs={'refusal': None}, response_metadata={'token_usage': {'completion_tokens': 14, 'prompt_tokens': 111, 'total_tokens': 125, 'completion_tokens_details': None, 'prompt_tokens_details': None}, 'model_name': 'gpt-4o-2024-05-13', 'system_fingerprint': 'fp_65792305e4', 'prompt_filter_results': [{'prompt_index': 0, 'content_filter_results': {'hate': {'filtered': False, 'severity': 'safe'}, 'jailbreak': {'filtered': False, 'detected': False}, 'self_harm': {'filtered': False, 'severity': 'safe'}, 'sexual': {'filtered': False, 'severity': 'safe'}, 'violence': {'filtered': False, 'severity': 'safe'}}}], 'finish_reason': 'stop', 'logprobs': None, 'content_filter_results': {'hate': {'filtered': False, 'severity': 'safe'}, 'self_harm': {'filtered': False, 'severity': 'safe'}, 'sexual': {'filtered': False, 'severity': 'safe'}, 'violence': {'filtered': False, 'severity': 'safe'}}}, id='run-d9225d4b-de91-40f9-a569-cb2e828a333e-0', usage_metadata={'input_tokens': 111, 'output_tokens': 14, 'total_tokens': 125, 'input_token_details': {}, 'output_token_details': {}}),\n",
       "  AIMessage(content='Transferring back to supervisor_agent', additional_kwargs={}, response_metadata={}, name='weather_agent', id='45c40603-9834-4921-be5e-b02e9bb7a647', tool_calls=[{'name': 'transfer_back_to_supervisor_agent', 'args': {}, 'id': '008eb7ae-2e86-491a-9645-94310b5e4193', 'type': 'tool_call'}]),\n",
       "  ToolMessage(content='Successfully transferred back to supervisor_agent', name='transfer_back_to_supervisor_agent', id='213831ff-2741-44e7-b90f-84a1f35bac17', tool_call_id='008eb7ae-2e86-491a-9645-94310b5e4193'),\n",
       "  AIMessage(content='The weather in Munich is currently 15 degrees Celsius and cloudy.', additional_kwargs={'refusal': None}, response_metadata={'token_usage': {'completion_tokens': 14, 'prompt_tokens': 167, 'total_tokens': 181, 'completion_tokens_details': None, 'prompt_tokens_details': None}, 'model_name': 'gpt-4o-2024-05-13', 'system_fingerprint': 'fp_65792305e4', 'prompt_filter_results': [{'prompt_index': 0, 'content_filter_results': {'hate': {'filtered': False, 'severity': 'safe'}, 'jailbreak': {'filtered': False, 'detected': False}, 'self_harm': {'filtered': False, 'severity': 'safe'}, 'sexual': {'filtered': False, 'severity': 'safe'}, 'violence': {'filtered': False, 'severity': 'safe'}}}], 'finish_reason': 'stop', 'logprobs': None, 'content_filter_results': {'hate': {'filtered': False, 'severity': 'safe'}, 'self_harm': {'filtered': False, 'severity': 'safe'}, 'sexual': {'filtered': False, 'severity': 'safe'}, 'violence': {'filtered': False, 'severity': 'safe'}}}, name='supervisor_agent', id='run-a04bba09-48a5-4adc-8590-3a0bffc613ec-0', usage_metadata={'input_tokens': 167, 'output_tokens': 14, 'total_tokens': 181, 'input_token_details': {}, 'output_token_details': {}})]}"
      ]
     },
     "execution_count": 27,
     "metadata": {},
     "output_type": "execute_result"
    }
   ],
   "source": [
    "supervisor_app.invoke({\"messages\": [HumanMessage(content=\"how is weather in munich\")]})"
   ]
  },
  {
   "cell_type": "code",
   "execution_count": null,
   "metadata": {},
   "outputs": [],
   "source": []
  }
 ],
 "metadata": {
  "kernelspec": {
   "display_name": "langgraph",
   "language": "python",
   "name": "python3"
  },
  "language_info": {
   "codemirror_mode": {
    "name": "ipython",
    "version": 3
   },
   "file_extension": ".py",
   "mimetype": "text/x-python",
   "name": "python",
   "nbconvert_exporter": "python",
   "pygments_lexer": "ipython3",
   "version": "3.12.0"
  }
 },
 "nbformat": 4,
 "nbformat_minor": 2
}
